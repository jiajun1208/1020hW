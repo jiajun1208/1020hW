{
  "nbformat": 4,
  "nbformat_minor": 0,
  "metadata": {
    "colab": {
      "provenance": []
    },
    "kernelspec": {
      "name": "python3",
      "display_name": "Python 3"
    },
    "language_info": {
      "name": "python"
    }
  },
  "cells": [
    {
      "cell_type": "code",
      "execution_count": 101,
      "metadata": {
        "id": "k9MEfeee5WWv",
        "colab": {
          "base_uri": "https://localhost:8080/"
        },
        "outputId": "f59983e6-d897-4944-d8b7-17f672705bfe"
      },
      "outputs": [
        {
          "output_type": "stream",
          "name": "stdout",
          "text": [
            "輸入範圍3\n",
            "1x1=1\n",
            "1x2=2\n",
            "1x3=3\n",
            "2x1=2\n",
            "2x2=4\n",
            "2x3=6\n",
            "3x1=3\n",
            "3x2=6\n",
            "3x3=9\n"
          ]
        }
      ],
      "source": [
        "a=int(input(\"輸入範圍\"))\n",
        "for i in range(1,a +1):\n",
        "  for j in range(1,a +1):\n",
        "    print(f'{i}x{j}={i*j}')\n",
        "\n",
        "\n",
        ""
      ]
    },
    {
      "cell_type": "code",
      "source": [
        "import random\n",
        "a = random.randint(1,100)\n",
        "b = int(input('歡迎參加猜數字遊戲'))\n",
        "while a!=b:\n",
        "    if b < a:\n",
        "        b = int(input('數字太小囉！'))\n",
        "    elif b > a:\n",
        "        b = int(input('數字太大囉！'))\n",
        "print('遊戲結束。')"
      ],
      "metadata": {
        "colab": {
          "base_uri": "https://localhost:8080/"
        },
        "id": "tOcCodGvH66L",
        "outputId": "885f2f8d-262c-4067-c905-9f5e754096c8"
      },
      "execution_count": 103,
      "outputs": [
        {
          "output_type": "stream",
          "name": "stdout",
          "text": [
            "歡迎參加猜數字遊戲35\n",
            "數字太大囉！10\n",
            "數字太小囉！20\n",
            "數字太大囉！15\n",
            "數字太大囉！12\n",
            "數字太小囉！13\n",
            "遊戲結束\n"
          ]
        }
      ]
    }
  ]
}